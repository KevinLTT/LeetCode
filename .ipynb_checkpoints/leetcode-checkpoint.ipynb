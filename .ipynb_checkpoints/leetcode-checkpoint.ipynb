{
 "cells": [
  {
   "cell_type": "code",
   "execution_count": 37,
   "metadata": {
    "ExecuteTime": {
     "end_time": "2018-07-30T07:47:34.722669Z",
     "start_time": "2018-07-30T07:47:34.717481Z"
    }
   },
   "outputs": [],
   "source": [
    "from collections import deque\n",
    "from collections import Counter"
   ]
  },
  {
   "cell_type": "code",
   "execution_count": 64,
   "metadata": {
    "ExecuteTime": {
     "end_time": "2018-07-30T08:00:00.196234Z",
     "start_time": "2018-07-30T08:00:00.169832Z"
    }
   },
   "outputs": [
    {
     "name": "stdout",
     "output_type": "stream",
     "text": [
      "0 left befor: 0\n",
      "0 left after: 0\n",
      "1 left befor: 0\n",
      "1 left after: 1\n"
     ]
    },
    {
     "data": {
      "text/plain": [
       "'a'"
      ]
     },
     "execution_count": 64,
     "metadata": {},
     "output_type": "execute_result"
    }
   ],
   "source": [
    "class Solution:\n",
    "    def minWindow(self, s, t):\n",
    "        \"\"\"\n",
    "        :type s: str\n",
    "        :type t: str\n",
    "        :rtype: str\n",
    "        \"\"\"\n",
    "        pos = {x: deque() for x in list(t)}\n",
    "        counter = Counter()\n",
    "        for c in t:\n",
    "            counter[c] += 1\n",
    "        count = -1\n",
    "        total = len(counter)\n",
    "        left = 0\n",
    "        min_pair = (-1, len(s))\n",
    "        \n",
    "        for idx, c in enumerate(list(s)):\n",
    "            if c in pos:\n",
    "                print(f'{idx} left befor: {left}')\n",
    "                if count == 0:\n",
    "                    left = idx\n",
    "                \n",
    "                if count == total:\n",
    "                    while len(pos[c]) >= counter[c]:\n",
    "                        pop_pos = pos[c].popleft()\n",
    "                    count -= 1\n",
    "                    \n",
    "                    for idx1 in range(left, pop_pos):\n",
    "                        char = s[idx1]\n",
    "                        if char in pos and len(pos[char]) > 0:\n",
    "                            pos[char].popleft()\n",
    "                            if len(pos[char]) == counter[char] - 1:\n",
    "                                count -= 1\n",
    "                                \n",
    "                    left = -1\n",
    "                    for idx1 in range(pop_pos+1, idx):\n",
    "                        char = s[idx1]\n",
    "                        if char in pos and len(pos[char]) > 0:\n",
    "                            left = idx1\n",
    "                            break\n",
    "                    if left == -1:\n",
    "                        left = idx\n",
    "                \n",
    "                if len(pos[c]) == counter[c] - 1:\n",
    "                    count += 1\n",
    "                pos[c].append(idx)\n",
    "                \n",
    "                print(f'{idx} left after: {left}')\n",
    "                \n",
    "                if count == total:\n",
    "                    if idx - left + 1 < min_pair[1] - min_pair[0] + 1:\n",
    "                        min_pair = (left, idx)\n",
    "                \n",
    "        \n",
    "        if min_pair[0] == -1:\n",
    "            return ''\n",
    "        else:\n",
    "            return s[min_pair[0] : min_pair[1]+1]\n",
    "        \n",
    "s = Solution()\n",
    "s.minWindow(\"aa\", \"aa\")"
   ]
  },
  {
   "cell_type": "code",
   "execution_count": 36,
   "metadata": {
    "ExecuteTime": {
     "end_time": "2018-07-30T07:47:09.739457Z",
     "start_time": "2018-07-30T07:47:09.737750Z"
    }
   },
   "outputs": [],
   "source": [
    "from collections import Counter"
   ]
  }
 ],
 "metadata": {
  "kernelspec": {
   "display_name": "Python 3",
   "language": "python",
   "name": "python3"
  },
  "language_info": {
   "codemirror_mode": {
    "name": "ipython",
    "version": 3
   },
   "file_extension": ".py",
   "mimetype": "text/x-python",
   "name": "python",
   "nbconvert_exporter": "python",
   "pygments_lexer": "ipython3",
   "version": "3.6.5"
  },
  "varInspector": {
   "cols": {
    "lenName": 16,
    "lenType": 16,
    "lenVar": 40
   },
   "kernels_config": {
    "python": {
     "delete_cmd_postfix": "",
     "delete_cmd_prefix": "del ",
     "library": "var_list.py",
     "varRefreshCmd": "print(var_dic_list())"
    },
    "r": {
     "delete_cmd_postfix": ") ",
     "delete_cmd_prefix": "rm(",
     "library": "var_list.r",
     "varRefreshCmd": "cat(var_dic_list()) "
    }
   },
   "types_to_exclude": [
    "module",
    "function",
    "builtin_function_or_method",
    "instance",
    "_Feature"
   ],
   "window_display": false
  }
 },
 "nbformat": 4,
 "nbformat_minor": 2
}
