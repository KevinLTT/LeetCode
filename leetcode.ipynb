{
 "cells": [
  {
   "cell_type": "code",
   "execution_count": 10,
   "metadata": {
    "ExecuteTime": {
     "end_time": "2018-08-28T09:27:28.512346Z",
     "start_time": "2018-08-28T09:27:28.508310Z"
    }
   },
   "outputs": [
    {
     "name": "stdout",
     "output_type": "stream",
     "text": [
      "[] 0\n",
      "[] 1\n",
      "[] 3\n",
      "[2] 3\n",
      "[2, 2] 3\n",
      "[1] 1\n",
      "[1] 3\n",
      "[1, 2] 3\n",
      "[1, 2, 2] 3\n",
      "[[], [2], [2, 2], [1], [1, 2], [1, 2, 2]]\n"
     ]
    }
   ],
   "source": [
    "class Solution:\n",
    "    def subsetsWithDup(self, nums):\n",
    "        \"\"\"\n",
    "        :type nums: List[int]\n",
    "        :rtype: List[List[int]]\n",
    "        \"\"\"\n",
    "        \n",
    "        def sub(nums, current, index, reses):\n",
    "            print(current, index)\n",
    "            \n",
    "            if index >= len(nums):\n",
    "                reses.append(current.copy())\n",
    "                return\n",
    "            \n",
    "            count = 1\n",
    "            initial_index = index\n",
    "            pre = nums[index]\n",
    "            while index + 1 < len(nums) and pre == nums[index+1]:\n",
    "                count += 1\n",
    "                pre = nums[index+1]\n",
    "                index += 1\n",
    "                \n",
    "            sub(nums, current, index+1, reses)    \n",
    "            for i in range(count):\n",
    "                current.append(nums[initial_index])\n",
    "                sub(nums, current, index+1, reses)\n",
    "            for i in range(count):\n",
    "                current.pop()\n",
    "            \n",
    "        if not nums:\n",
    "            return list([])\n",
    "        \n",
    "        reses = list()\n",
    "        current = list()\n",
    "        nums.sort()\n",
    "        sub(nums, current, 0, reses)\n",
    "\n",
    "        return reses\n",
    "\n",
    "nums = [2, 1, 2]\n",
    "s = Solution()\n",
    "print(s.subsetsWithDup(nums))"
   ]
  }
 ],
 "metadata": {
  "kernelspec": {
   "display_name": "Python 3",
   "language": "python",
   "name": "python3"
  },
  "language_info": {
   "codemirror_mode": {
    "name": "ipython",
    "version": 3
   },
   "file_extension": ".py",
   "mimetype": "text/x-python",
   "name": "python",
   "nbconvert_exporter": "python",
   "pygments_lexer": "ipython3",
   "version": "3.6.5"
  },
  "varInspector": {
   "cols": {
    "lenName": 16,
    "lenType": 16,
    "lenVar": 40
   },
   "kernels_config": {
    "python": {
     "delete_cmd_postfix": "",
     "delete_cmd_prefix": "del ",
     "library": "var_list.py",
     "varRefreshCmd": "print(var_dic_list())"
    },
    "r": {
     "delete_cmd_postfix": ") ",
     "delete_cmd_prefix": "rm(",
     "library": "var_list.r",
     "varRefreshCmd": "cat(var_dic_list()) "
    }
   },
   "types_to_exclude": [
    "module",
    "function",
    "builtin_function_or_method",
    "instance",
    "_Feature"
   ],
   "window_display": false
  }
 },
 "nbformat": 4,
 "nbformat_minor": 2
}
