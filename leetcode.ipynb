{
 "cells": [
  {
   "cell_type": "code",
   "execution_count": 37,
   "metadata": {
    "ExecuteTime": {
     "end_time": "2018-07-30T07:47:34.722669Z",
     "start_time": "2018-07-30T07:47:34.717481Z"
    }
   },
   "outputs": [],
   "source": [
    "from collections import deque\n",
    "from collections import Counter"
   ]
  },
  {
   "cell_type": "code",
   "execution_count": 126,
   "metadata": {
    "ExecuteTime": {
     "end_time": "2018-07-30T09:00:32.105993Z",
     "start_time": "2018-07-30T09:00:32.100674Z"
    }
   },
   "outputs": [
    {
     "name": "stdout",
     "output_type": "stream",
     "text": [
      "in\n",
      "1 1\n",
      "1 1\n",
      "b\n"
     ]
    }
   ],
   "source": [
    "class Solution:\n",
    "    def minWindow(self, s, t):\n",
    "        \"\"\"\n",
    "        :type s: str\n",
    "        :type t: str\n",
    "        :rtype: str\n",
    "        \"\"\"\n",
    "        target = Counter()\n",
    "        for t_char in t:\n",
    "            target[t_char] += 1\n",
    "#         print(target)\n",
    "        counter = Counter()\n",
    "        valid_count = 0\n",
    "        total = len(t)\n",
    "        min_left, min_right = -1, len(s)\n",
    "        \n",
    "        left = 0\n",
    "        for i, c in enumerate(s):\n",
    "            if c in target:\n",
    "                counter[c] += 1\n",
    "                if counter[c] <= target[c]:\n",
    "                    valid_count += 1\n",
    "                    \n",
    "                if valid_count == total:\n",
    "                    print('in')\n",
    "                    right = i\n",
    "                    for j in range(left, right+1):\n",
    "                        char = s[j]\n",
    "                        if char in target:\n",
    "                            if counter[char] == target[char]:\n",
    "                                left = j\n",
    "                                break\n",
    "                            else:\n",
    "                                counter[char] -= 1\n",
    "                    print(left, right)\n",
    "                    if right - left < min_right - min_left:\n",
    "                        min_left, min_right = left, right\n",
    "                    \n",
    "                    counter[s[left]] -= 1\n",
    "                    valid_count -= 1\n",
    "                    left = left + 1\n",
    "        \n",
    "        print(min_left, min_right)\n",
    "        if min_left == -1:\n",
    "            return ''\n",
    "        else:\n",
    "            return s[min_left : min_right+1]\n",
    "        \n",
    "         \n",
    "        \n",
    "s = Solution()\n",
    "# print(s.minWindow(\"aa\", \"aa\"))\n",
    "# print(s.minWindow('bba', 'ab'))\n",
    "print(s.minWindow(\"ab\", \"b\"))\n",
    "#                  012345678\n",
    "#\n",
    "\n"
   ]
  },
  {
   "cell_type": "code",
   "execution_count": 36,
   "metadata": {
    "ExecuteTime": {
     "end_time": "2018-07-30T07:47:09.739457Z",
     "start_time": "2018-07-30T07:47:09.737750Z"
    }
   },
   "outputs": [],
   "source": [
    "from collections import Counter"
   ]
  }
 ],
 "metadata": {
  "kernelspec": {
   "display_name": "Python 3",
   "language": "python",
   "name": "python3"
  },
  "language_info": {
   "codemirror_mode": {
    "name": "ipython",
    "version": 3
   },
   "file_extension": ".py",
   "mimetype": "text/x-python",
   "name": "python",
   "nbconvert_exporter": "python",
   "pygments_lexer": "ipython3",
   "version": "3.6.5"
  },
  "varInspector": {
   "cols": {
    "lenName": 16,
    "lenType": 16,
    "lenVar": 40
   },
   "kernels_config": {
    "python": {
     "delete_cmd_postfix": "",
     "delete_cmd_prefix": "del ",
     "library": "var_list.py",
     "varRefreshCmd": "print(var_dic_list())"
    },
    "r": {
     "delete_cmd_postfix": ") ",
     "delete_cmd_prefix": "rm(",
     "library": "var_list.r",
     "varRefreshCmd": "cat(var_dic_list()) "
    }
   },
   "types_to_exclude": [
    "module",
    "function",
    "builtin_function_or_method",
    "instance",
    "_Feature"
   ],
   "window_display": false
  }
 },
 "nbformat": 4,
 "nbformat_minor": 2
}
