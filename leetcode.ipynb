{
 "cells": [
  {
   "cell_type": "code",
   "execution_count": 10,
   "metadata": {
    "ExecuteTime": {
     "end_time": "2018-07-09T06:05:59.801764Z",
     "start_time": "2018-07-09T06:05:59.798673Z"
    }
   },
   "outputs": [
    {
     "name": "stdout",
     "output_type": "stream",
     "text": [
      "['', '..']\n",
      "/\n"
     ]
    }
   ],
   "source": [
    "class Solution:\n",
    "    def simplifyPath(self, path):\n",
    "        \"\"\"\n",
    "        :type path: str\n",
    "        :rtype: str\n",
    "        \"\"\"\n",
    "        path_stack = ['/']\n",
    "        tokens = path.split('/')\n",
    "        print(tokens)\n",
    "        for token in tokens:\n",
    "            if len(token) > 0 and token != '.':\n",
    "                if token == '..': \n",
    "                    if len(path_stack) > 1:\n",
    "                        path_stack.pop()\n",
    "                else:\n",
    "                    path_stack.append(token)\n",
    "        \n",
    "        if len(path_stack) > 1:\n",
    "            path = ''\n",
    "            for index in range(1, len(path_stack)):\n",
    "                path = path + '/' + path_stack[index]\n",
    "        else:\n",
    "            path = '/'\n",
    "        \n",
    "        return path\n",
    "\n",
    "s = Solution()\n",
    "path = \"/..\"\n",
    "print(s.simplifyPath(path))"
   ]
  }
 ],
 "metadata": {
  "kernelspec": {
   "display_name": "Python 3",
   "language": "python",
   "name": "python3"
  },
  "language_info": {
   "codemirror_mode": {
    "name": "ipython",
    "version": 3
   },
   "file_extension": ".py",
   "mimetype": "text/x-python",
   "name": "python",
   "nbconvert_exporter": "python",
   "pygments_lexer": "ipython3",
   "version": "3.6.5"
  },
  "varInspector": {
   "cols": {
    "lenName": 16,
    "lenType": 16,
    "lenVar": 40
   },
   "kernels_config": {
    "python": {
     "delete_cmd_postfix": "",
     "delete_cmd_prefix": "del ",
     "library": "var_list.py",
     "varRefreshCmd": "print(var_dic_list())"
    },
    "r": {
     "delete_cmd_postfix": ") ",
     "delete_cmd_prefix": "rm(",
     "library": "var_list.r",
     "varRefreshCmd": "cat(var_dic_list()) "
    }
   },
   "types_to_exclude": [
    "module",
    "function",
    "builtin_function_or_method",
    "instance",
    "_Feature"
   ],
   "window_display": false
  }
 },
 "nbformat": 4,
 "nbformat_minor": 2
}
