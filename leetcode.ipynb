{
 "cells": [
  {
   "cell_type": "code",
   "execution_count": 18,
   "metadata": {
    "ExecuteTime": {
     "end_time": "2018-09-27T02:29:48.468553Z",
     "start_time": "2018-09-27T02:29:48.462376Z"
    }
   },
   "outputs": [],
   "source": [
    "class TreeNode:\n",
    "    def __init__(self, x):\n",
    "        self.val = x\n",
    "        self.left = None\n",
    "        self.right = None\n",
    "\n",
    "def build_tree(nums):\n",
    "    from collections import deque\n",
    "    if not nums:\n",
    "        return None\n",
    "    root = TreeNode(nums[0])\n",
    "    current_level = deque()\n",
    "    current_level.append(root)\n",
    "    next_level = deque()\n",
    "    \n",
    "    index = 1\n",
    "    while index < len(nums):\n",
    "        node = current_level.popleft()\n",
    "        if nums[index] is not None:\n",
    "            node.left = TreeNode(nums[index])\n",
    "            next_level.append(node.left)\n",
    "        if nums[index+1] is not None:\n",
    "            node.right = TreeNode(nums[index+1])\n",
    "            next_level.append(node.right)\n",
    "        index += 2\n",
    "        if not current_level:\n",
    "            current_level = next_level.copy()\n",
    "            next_level = deque()\n",
    "    \n",
    "    return root"
   ]
  },
  {
   "cell_type": "code",
   "execution_count": 19,
   "metadata": {
    "ExecuteTime": {
     "end_time": "2018-09-27T02:29:48.705446Z",
     "start_time": "2018-09-27T02:29:48.700875Z"
    }
   },
   "outputs": [],
   "source": [
    "nums = [5,4,8,11,None,13,4,7,2,None,None,5,1]\n",
    "root = build_tree(nums)"
   ]
  },
  {
   "cell_type": "code",
   "execution_count": 22,
   "metadata": {
    "ExecuteTime": {
     "end_time": "2018-09-27T02:32:07.590817Z",
     "start_time": "2018-09-27T02:32:07.575418Z"
    }
   },
   "outputs": [
    {
     "name": "stdout",
     "output_type": "stream",
     "text": [
      "[<built-in method copy of list object at 0x7f337c04c748>, <built-in method copy of list object at 0x7f337c04c748>]\n"
     ]
    }
   ],
   "source": [
    "class Solution:\n",
    "    def find(self, node, target, current, reses):\n",
    "        if not node:\n",
    "            return\n",
    "        \n",
    "        if not node.left and not node.right:\n",
    "            if target == node.val:\n",
    "                current.append(node.val)\n",
    "                reses.append(current.copy)\n",
    "                current.pop()\n",
    "        else:\n",
    "            current.append(node.val)\n",
    "            self.find(node.left, target-node.val, current, reses)        \n",
    "            self.find(node.right, target-node.val, current, reses)        \n",
    "            current.pop()\n",
    "    \n",
    "    def pathSum(self, root, target):\n",
    "        \"\"\"\n",
    "        :type root: TreeNode\n",
    "        :type sum: int\n",
    "        :rtype: List[List[int]]\n",
    "        \"\"\"\n",
    "        \n",
    "        current = []\n",
    "        reses = []\n",
    "        self.find(root, target, current, reses)\n",
    "        return reses\n",
    "\n",
    "s = Solution()\n",
    "print(s.pathSum(root, 22))"
   ]
  }
 ],
 "metadata": {
  "kernelspec": {
   "display_name": "Python 3",
   "language": "python",
   "name": "python3"
  },
  "language_info": {
   "codemirror_mode": {
    "name": "ipython",
    "version": 3
   },
   "file_extension": ".py",
   "mimetype": "text/x-python",
   "name": "python",
   "nbconvert_exporter": "python",
   "pygments_lexer": "ipython3",
   "version": "3.6.5"
  },
  "varInspector": {
   "cols": {
    "lenName": 16,
    "lenType": 16,
    "lenVar": 40
   },
   "kernels_config": {
    "python": {
     "delete_cmd_postfix": "",
     "delete_cmd_prefix": "del ",
     "library": "var_list.py",
     "varRefreshCmd": "print(var_dic_list())"
    },
    "r": {
     "delete_cmd_postfix": ") ",
     "delete_cmd_prefix": "rm(",
     "library": "var_list.r",
     "varRefreshCmd": "cat(var_dic_list()) "
    }
   },
   "types_to_exclude": [
    "module",
    "function",
    "builtin_function_or_method",
    "instance",
    "_Feature"
   ],
   "window_display": false
  }
 },
 "nbformat": 4,
 "nbformat_minor": 2
}
